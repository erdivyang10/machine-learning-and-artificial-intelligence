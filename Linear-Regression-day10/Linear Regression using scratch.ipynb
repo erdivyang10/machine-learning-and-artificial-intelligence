{
 "cells": [
  {
   "cell_type": "code",
   "execution_count": 64,
   "metadata": {},
   "outputs": [],
   "source": [
    "import numpy as np \n",
    "import pandas as pd \n",
    "import matplotlib.pyplot as plt \n",
    "import math\n",
    "\n",
    "#read .csv into a DataFrame\n",
    "house = pd.read_csv(\"/home/flippercode/Documents/machine-learning/include/house-prices.csv\")\n",
    "\n"
   ]
  },
  {
   "cell_type": "code",
   "execution_count": 65,
   "metadata": {},
   "outputs": [],
   "source": [
    "size = house['HouseSize']\n",
    "price = house['HousePrice']\n"
   ]
  },
  {
   "cell_type": "code",
   "execution_count": 66,
   "metadata": {},
   "outputs": [],
   "source": [
    "#now we will convert the dataframes into the array\n",
    "X = size.values\n",
    "Y = price.values"
   ]
  },
  {
   "cell_type": "code",
   "execution_count": 67,
   "metadata": {},
   "outputs": [
    {
     "data": {
      "text/plain": [
       "array([1120, 1523, 2102, 2230, 2600, 3200, 3409, 3689, 4460, 3010, 3022,\n",
       "       3999, 4180, 1020, 1589, 2002])"
      ]
     },
     "execution_count": 67,
     "metadata": {},
     "output_type": "execute_result"
    }
   ],
   "source": [
    "X"
   ]
  },
  {
   "cell_type": "code",
   "execution_count": 68,
   "metadata": {},
   "outputs": [],
   "source": [
    "#Now take the mean value of x and y\n",
    "\n",
    "x_mean = np.mean(X) #find mean of size\n",
    "y_mean = np.mean(Y) #find mean of price"
   ]
  },
  {
   "cell_type": "code",
   "execution_count": 69,
   "metadata": {},
   "outputs": [
    {
     "data": {
      "text/plain": [
       "397.6875"
      ]
     },
     "execution_count": 69,
     "metadata": {},
     "output_type": "execute_result"
    }
   ],
   "source": [
    "y_mean"
   ]
  },
  {
   "cell_type": "code",
   "execution_count": 70,
   "metadata": {},
   "outputs": [
    {
     "name": "stdout",
     "output_type": "stream",
     "text": [
      "Value of m:  0.14522786048333283\n",
      "values of C:  5.980730052610738\n"
     ]
    }
   ],
   "source": [
    "# y' =mx' +c\n",
    "# m =summation (x-x')(y-y')/(x-x')^2\n",
    "m = len(x)\n",
    "num = 0\n",
    "deno = 0\n",
    "\n",
    "for i in range(m):\n",
    "    num += (x[i]-x_mean)*(y[i]-y_mean)\n",
    "    deno += (x[i]- x_mean)**2\n",
    "    \n",
    "b1 = num/deno\n",
    "b0 = y_mean - (b1*x_mean)\n",
    "\n",
    "#print coefficients\n",
    "print('Value of m: ', b1)\n",
    "print('values of C: ',b0)\n"
   ]
  },
  {
   "cell_type": "code",
   "execution_count": 91,
   "metadata": {},
   "outputs": [
    {
     "name": "stdout",
     "output_type": "stream",
     "text": [
      "0.0\n"
     ]
    },
    {
     "data": {
      "image/png": "[encoded data removed]",
      "text/plain": [
       "<Figure size 432x288 with 1 Axes>"
      ]
     },
     "metadata": {
      "needs_background": "light"
     },
     "output_type": "display_data"
    }
   ],
   "source": [
    "\n",
    "#plotting values and regression lines\n",
    "\n",
    "x_max = np.max(X) +100\n",
    "x_min = np.min(X) -100\n",
    "\n",
    "#calculating line values\n",
    "\n",
    "x = np.linspace(x_min,x_max,1000)\n",
    "y = b0 + b1 * x\n",
    "\n",
    "\n",
    "rmse = 0\n",
    "for i in range(m):\n",
    "    y_pred=  b0 + b1* x[i]\n",
    "    rmse += (y[i] - y_pred) ** 2\n",
    "    \n",
    "rmse = np.sqrt(rmse/m)\n",
    "print(rmse)\n",
    "\n",
    "plt.plot(x,y,color='black',label='regression line')\n",
    "plt.scatter(X,Y, color='green', label='scatter plot')\n",
    "plt.title (\"Linear Regression\")\n",
    "plt.xlabel(\"Size\")\n",
    "plt.ylabel(\"Price\")\n",
    "plt.legend()\n",
    "plt.show()\n",
    "\n"
   ]
  },
  {
   "cell_type": "markdown",
   "metadata": {},
   "source": []
  },
  {
   "cell_type": "code",
   "execution_count": null,
   "metadata": {},
   "outputs": [],
   "source": []
  },
  {
   "cell_type": "code",
   "execution_count": null,
   "metadata": {},
   "outputs": [],
   "source": []
  }
 ],
 "metadata": {
  "kernelspec": {
   "display_name": "Python 3",
   "language": "python",
   "name": "python3"
  },
  "language_info": {
   "codemirror_mode": {
    "name": "ipython",
    "version": 3
   },
   "file_extension": ".py",
   "mimetype": "text/x-python",
   "name": "python",
   "nbconvert_exporter": "python",
   "pygments_lexer": "ipython3",
   "version": "3.7.1"
  }
 },
 "nbformat": 4,
 "nbformat_minor": 2
}
