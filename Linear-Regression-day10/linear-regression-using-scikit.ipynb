{
 "cells": [
  {
   "cell_type": "code",
   "execution_count": 56,
   "metadata": {},
   "outputs": [
    {
     "data": {
      "text/plain": [
       "Index(['HouseSize', 'HousePrice'], dtype='object')"
      ]
     },
     "execution_count": 56,
     "metadata": {},
     "output_type": "execute_result"
    }
   ],
   "source": [
    "import numpy as np \n",
    "import pandas as pd \n",
    "import matplotlib.pyplot as plt \n",
    "from sklearn.linear_model import LinearRegression\n",
    "from sklearn.metrics import mean_squared_error \n",
    "import math\n",
    "\n",
    "#read .csv into a DataFrame\n",
    "dataset = pd.read_csv(\"/home/flippercode/Documents/machine-learning/include/house-prices.csv\")\n",
    "dataset.columns\n"
   ]
  },
  {
   "cell_type": "code",
   "execution_count": 57,
   "metadata": {},
   "outputs": [],
   "source": [
    "size=dataset['HouseSize']\n",
    "price=dataset['HousePrice']"
   ]
  },
  {
   "cell_type": "code",
   "execution_count": 58,
   "metadata": {},
   "outputs": [
    {
     "data": {
      "text/plain": [
       "(0     1120\n",
       " 1     1523\n",
       " 2     2102\n",
       " 3     2230\n",
       " 4     2600\n",
       " 5     3200\n",
       " 6     3409\n",
       " 7     3689\n",
       " 8     4460\n",
       " 9     3010\n",
       " 10    3022\n",
       " 11    3999\n",
       " 12    4180\n",
       " 13    1020\n",
       " 14    1589\n",
       " 15    2002\n",
       " Name: HouseSize, dtype: int64, 0     112\n",
       " 1     305\n",
       " 2     198\n",
       " 3     305\n",
       " 4     372\n",
       " 5     550\n",
       " 6     502\n",
       " 7     420\n",
       " 8     578\n",
       " 9     730\n",
       " 10    530\n",
       " 11    611\n",
       " 12    550\n",
       " 13     92\n",
       " 14    338\n",
       " 15    170\n",
       " Name: HousePrice, dtype: int64)"
      ]
     },
     "execution_count": 58,
     "metadata": {},
     "output_type": "execute_result"
    }
   ],
   "source": [
    "size,price"
   ]
  },
  {
   "cell_type": "code",
   "execution_count": 59,
   "metadata": {},
   "outputs": [],
   "source": [
    "#machine learning handle arrays not dataframes\n",
    "x = np.array(size).reshape(-1,1)\n",
    "y = np.array(price).reshape(-1,1)\n"
   ]
  },
  {
   "cell_type": "code",
   "execution_count": 60,
   "metadata": {},
   "outputs": [
    {
     "data": {
      "text/plain": [
       "array([[112],\n",
       "       [305],\n",
       "       [198],\n",
       "       [305],\n",
       "       [372],\n",
       "       [550],\n",
       "       [502],\n",
       "       [420],\n",
       "       [578],\n",
       "       [730],\n",
       "       [530],\n",
       "       [611],\n",
       "       [550],\n",
       "       [ 92],\n",
       "       [338],\n",
       "       [170]])"
      ]
     },
     "execution_count": 60,
     "metadata": {},
     "output_type": "execute_result"
    }
   ],
   "source": [
    "y"
   ]
  },
  {
   "cell_type": "code",
   "execution_count": 61,
   "metadata": {},
   "outputs": [
    {
     "data": {
      "text/plain": [
       "LinearRegression(copy_X=True, fit_intercept=True, n_jobs=None,\n",
       "         normalize=False)"
      ]
     },
     "execution_count": 61,
     "metadata": {},
     "output_type": "execute_result"
    }
   ],
   "source": [
    "#we use Linear Regression + fit() is the training\n",
    "model = LinearRegression()\n",
    "model.fit(x, y)"
   ]
  },
  {
   "cell_type": "code",
   "execution_count": 62,
   "metadata": {},
   "outputs": [
    {
     "name": "stdout",
     "output_type": "stream",
     "text": [
      "MSE:  2473.233763719071\n",
      "R squared value: 0.6848056940832961\n"
     ]
    }
   ],
   "source": [
    "#MSE and R value\n",
    "regression_model_mse = mean_squared_error(x, y)\n",
    "print(\"MSE: \", math.sqrt(regression_model_mse))\n",
    "print(\"R squared value:\", model.score(x,y))"
   ]
  },
  {
   "cell_type": "code",
   "execution_count": 70,
   "metadata": {},
   "outputs": [
    {
     "name": "stdout",
     "output_type": "stream",
     "text": [
      "Value of M:  [0.14522786]\n",
      "value of C: 5.9807300526110225\n"
     ]
    }
   ],
   "source": [
    "#we can get the b values after the model fit\n",
    "#this is the b0\n",
    "print('Value of M: ',model.coef_[0])\n",
    "#this is b1 in our model\n",
    "print('value of C:',model.intercept_[0])"
   ]
  },
  {
   "cell_type": "code",
   "execution_count": 68,
   "metadata": {},
   "outputs": [
    {
     "data": {
      "image/png": "[encoded data removed]",
      "text/plain": [
       "<Figure size 432x288 with 1 Axes>"
      ]
     },
     "metadata": {
      "needs_background": "light"
     },
     "output_type": "display_data"
    }
   ],
   "source": [
    "#visualize the dataset with the fitted model\n",
    "plt.scatter(x, y, color= 'green')\n",
    "plt.plot(x, model.predict(x), color = 'black')\n",
    "plt.title (\"Linear Regression\")\n",
    "plt.xlabel(\"Size\")\n",
    "plt.ylabel(\"Price\")\n",
    "plt.show()"
   ]
  },
  {
   "cell_type": "code",
   "execution_count": 72,
   "metadata": {},
   "outputs": [
    {
     "name": "stdout",
     "output_type": "stream",
     "text": [
      "Prediction Price by the model: [[659.50610223]]\n"
     ]
    }
   ],
   "source": [
    "#Predicting the prices\n",
    "print(\"Prediction Price by the model:\" , model.predict([[4500]]))"
   ]
  },
  {
   "cell_type": "code",
   "execution_count": null,
   "metadata": {},
   "outputs": [],
   "source": []
  },
  {
   "cell_type": "code",
   "execution_count": null,
   "metadata": {},
   "outputs": [],
   "source": []
  }
 ],
 "metadata": {
  "kernelspec": {
   "display_name": "Python 3",
   "language": "python",
   "name": "python3"
  },
  "language_info": {
   "codemirror_mode": {
    "name": "ipython",
    "version": 3
   },
   "file_extension": ".py",
   "mimetype": "text/x-python",
   "name": "python",
   "nbconvert_exporter": "python",
   "pygments_lexer": "ipython3",
   "version": "3.7.1"
  }
 },
 "nbformat": 4,
 "nbformat_minor": 2
}
