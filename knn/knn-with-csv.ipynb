{
 "cells": [
  {
   "cell_type": "code",
   "execution_count": 7,
   "metadata": {},
   "outputs": [
    {
     "name": "stdout",
     "output_type": "stream",
     "text": [
      "          clientid    income       age      loan       LTI   default\n",
      "clientid  1.000000  0.039280 -0.030341  0.018931  0.002538 -0.020145\n",
      "income    0.039280  1.000000 -0.034984  0.441117 -0.019862  0.002284\n",
      "age      -0.030341 -0.034984  1.000000  0.006561  0.021588 -0.444765\n",
      "loan      0.018931  0.441117  0.006561  1.000000  0.847495  0.377160\n",
      "LTI       0.002538 -0.019862  0.021588  0.847495  1.000000  0.433261\n",
      "default  -0.020145  0.002284 -0.444765  0.377160  0.433261  1.000000\n",
      "Optimal k value with cross-validation:  28\n",
      "[[505   0]\n",
      " [ 16  79]]\n",
      "0.9733333333333334\n"
     ]
    }
   ],
   "source": [
    "import pandas as pd\n",
    "import numpy as np\n",
    "import matplotlib.pyplot as plt\n",
    "import warnings\n",
    "warnings.filterwarnings('ignore')\n",
    "from sklearn.neighbors import KNeighborsClassifier\n",
    "from sklearn.model_selection import train_test_split\n",
    "from sklearn.metrics import confusion_matrix\n",
    "from sklearn.metrics import accuracy_score\n",
    "from sklearn import preprocessing\n",
    "from sklearn.model_selection import cross_val_score\n",
    "\n",
    "data = pd.read_csv(\"/home/flippercode/Documents/machine-learning/Datasets/credit_data.csv\")\n",
    "\n",
    "# Logistic regression accuracy: 93%\n",
    "# we do better with knn: 98.5% !!!!!!!!\n",
    "# 84%\n",
    "\n",
    "\n",
    "#print(creditData.head())\n",
    "#print(creditData.describe())\n",
    "print(data.corr())\n",
    "\n",
    "data.features = data[[\"income\",\"age\",\"loan\"]]\n",
    "data.target = data.default\n",
    "\n",
    "data.features = preprocessing.MinMaxScaler().fit_transform(data.features) #HUGE DIFFERENCE !!!\n",
    "\n",
    "feature_train, feature_test, target_train, target_test = train_test_split(data.features,data.target, test_size=0.3)\n",
    "\n",
    "model = KNeighborsClassifier(n_neighbors=28)  # k value !!!\n",
    "fittedModel = model.fit(feature_train, target_train)\n",
    "predictions = fittedModel.predict(feature_test)\n",
    "\n",
    "cross_valid_scores = []\n",
    "\n",
    "for k in range(1,100):\n",
    "    knn = KNeighborsClassifier(n_neighbors=k)\n",
    "    scores = cross_val_score(knn,data.features,data.target,cv=10,scoring='accuracy')\n",
    "    cross_valid_scores.append(scores.mean())\n",
    "    \n",
    "\n",
    "print(\"Optimal k value with cross-validation: \", np.argmax(cross_valid_scores))    \n",
    "    \n",
    "print(confusion_matrix(target_test, predictions))\n",
    "print(accuracy_score(target_test,predictions))"
   ]
  },
  {
   "cell_type": "code",
   "execution_count": null,
   "metadata": {},
   "outputs": [],
   "source": []
  },
  {
   "cell_type": "code",
   "execution_count": null,
   "metadata": {},
   "outputs": [],
   "source": []
  },
  {
   "cell_type": "code",
   "execution_count": null,
   "metadata": {},
   "outputs": [],
   "source": []
  }
 ],
 "metadata": {
  "kernelspec": {
   "display_name": "Python 3",
   "language": "python",
   "name": "python3"
  },
  "language_info": {
   "codemirror_mode": {
    "name": "ipython",
    "version": 3
   },
   "file_extension": ".py",
   "mimetype": "text/x-python",
   "name": "python",
   "nbconvert_exporter": "python",
   "pygments_lexer": "ipython3",
   "version": "3.7.1"
  }
 },
 "nbformat": 4,
 "nbformat_minor": 2
}
