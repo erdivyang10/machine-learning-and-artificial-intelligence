{
 "cells": [
  {
   "cell_type": "code",
   "execution_count": 137,
   "metadata": {},
   "outputs": [],
   "source": [
    "#here we have created a model to predict a user can play outside or not according to the temperature and weather\n",
    "#condition\n",
    "\n",
    "import numpy as np\n",
    "import matplotlib.pyplot as plt\n",
    "from sklearn.neighbors import KNeighborsClassifier"
   ]
  },
  {
   "cell_type": "code",
   "execution_count": 138,
   "metadata": {},
   "outputs": [
    {
     "name": "stdout",
     "output_type": "stream",
     "text": [
      "Weather Translated strings in Number is:  [2 2 0 1 1 0 2 1 0 1 2]\n",
      "Temp Translated strings in Number is:  [1 1 1 2 2 1 0 0 1 2 0]\n",
      "Play Translated strings in Number is: [0 0 1 0 1 0 1 0 1 1 1]\n"
     ]
    }
   ],
   "source": [
    "#load the dataset\n",
    "\n",
    "#weather and temp\n",
    "\n",
    "weather = ['sunny','sunny','overcast','rainy','rainy','overcast','sunny','rainy','overcast','rainy','sunny']\n",
    "temp = ['hot','hot','hot','mild','mild','hot','cool','cool','hot','mild','cool']\n",
    "\n",
    "#target data\n",
    "\n",
    "play =['no','no','yes','no','yes','no','yes','no','yes','yes','yes']\n",
    "\n",
    "\n",
    "#we need to use a lable encoder because in our data we are using a strings so we need to convert into the numbers\n",
    "#for further process\n",
    "\n",
    "\n",
    "# Import LabelEncoder\n",
    "from sklearn import preprocessing\n",
    "\n",
    "#creating labelEncoder\n",
    "le = preprocessing.LabelEncoder()\n",
    "\n",
    "# Converting weather string labels into numbers.\n",
    "weather_encoded=le.fit_transform(weather)\n",
    "print('Weather Translated strings in Number is: ',weather_encoded)\n",
    "\n",
    "\n",
    "#Converting temp string labels into numbers.\n",
    "temp_encoded=le.fit_transform(temp)\n",
    "play_encoded=le.fit_transform(play)\n",
    "\n",
    "print('Temp Translated strings in Number is: ',temp_encoded)\n",
    "print('Play Translated strings in Number is:' ,play_encoded)\n"
   ]
  },
  {
   "cell_type": "code",
   "execution_count": 139,
   "metadata": {},
   "outputs": [
    {
     "data": {
      "text/plain": [
       "[(2, 1),\n",
       " (2, 1),\n",
       " (0, 1),\n",
       " (1, 2),\n",
       " (1, 2),\n",
       " (0, 1),\n",
       " (2, 0),\n",
       " (1, 0),\n",
       " (0, 1),\n",
       " (1, 2),\n",
       " (2, 0)]"
      ]
     },
     "execution_count": 139,
     "metadata": {},
     "output_type": "execute_result"
    }
   ],
   "source": [
    "#combine weather and temperature into single list of tuples\n",
    "#to combine the tuples we will use the zip function\n",
    "\n",
    "features = list(zip(weather_encoded,temp_encoded))\n",
    "features"
   ]
  },
  {
   "cell_type": "code",
   "execution_count": 151,
   "metadata": {},
   "outputs": [
    {
     "data": {
      "text/plain": [
       "KNeighborsClassifier(algorithm='auto', leaf_size=30, metric='minkowski',\n",
       "           metric_params=None, n_jobs=None, n_neighbors=7, p=2,\n",
       "           weights='uniform')"
      ]
     },
     "execution_count": 151,
     "metadata": {},
     "output_type": "execute_result"
    }
   ],
   "source": [
    "#now create a model\n",
    "\n",
    "model = KNeighborsClassifier(n_neighbors=7)\n",
    "\n",
    "#train the model\n",
    "\n",
    "model.fit(features,play_encoded)\n"
   ]
  },
  {
   "cell_type": "code",
   "execution_count": 152,
   "metadata": {},
   "outputs": [
    {
     "data": {
      "image/png": "[encoded data removed]",
      "text/plain": [
       "<Figure size 432x288 with 1 Axes>"
      ]
     },
     "metadata": {
      "needs_background": "light"
     },
     "output_type": "display_data"
    }
   ],
   "source": [
    "plt.plot(weather,temp,'ro', color='green')\n",
    "#plt.plot(play_encoded,'ro',color='blue')\n",
    "plt.xlabel('Weather')\n",
    "plt.ylabel('Temperature')\n",
    "plt.show()"
   ]
  },
  {
   "cell_type": "code",
   "execution_count": 154,
   "metadata": {},
   "outputs": [
    {
     "name": "stdout",
     "output_type": "stream",
     "text": [
      "Could you play :  [1]\n"
     ]
    }
   ],
   "source": [
    "predicted = model.predict([[0,2]])\n",
    "\n",
    "# [weather, temp] weather: 0-sunny, 1-overcast, 2- rainy  \n",
    "                 #temp: 0-hot, 1-mild, 2-cool\n",
    "print ('Could you play : ',predicted) # 0 No, 1 Yes"
   ]
  },
  {
   "cell_type": "code",
   "execution_count": null,
   "metadata": {},
   "outputs": [],
   "source": [
    "\n",
    "\n",
    "\n",
    "\n",
    "\n"
   ]
  },
  {
   "cell_type": "code",
   "execution_count": null,
   "metadata": {},
   "outputs": [],
   "source": []
  },
  {
   "cell_type": "code",
   "execution_count": null,
   "metadata": {},
   "outputs": [],
   "source": []
  },
  {
   "cell_type": "code",
   "execution_count": null,
   "metadata": {},
   "outputs": [],
   "source": []
  }
 ],
 "metadata": {
  "kernelspec": {
   "display_name": "Python 3",
   "language": "python",
   "name": "python3"
  },
  "language_info": {
   "codemirror_mode": {
    "name": "ipython",
    "version": 3
   },
   "file_extension": ".py",
   "mimetype": "text/x-python",
   "name": "python",
   "nbconvert_exporter": "python",
   "pygments_lexer": "ipython3",
   "version": "3.7.1"
  }
 },
 "nbformat": 4,
 "nbformat_minor": 2
}
