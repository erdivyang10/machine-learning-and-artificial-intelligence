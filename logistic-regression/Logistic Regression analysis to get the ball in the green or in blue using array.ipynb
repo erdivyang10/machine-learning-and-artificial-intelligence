{
 "cells": [
  {
   "cell_type": "code",
   "execution_count": 13,
   "metadata": {},
   "outputs": [],
   "source": [
    "#importing all needed libraries\n",
    "\n",
    "import numpy as np\n",
    "from matplotlib import pyplot as plt\n",
    "from sklearn.linear_model import LogisticRegression\n",
    "import warnings\n",
    "warnings.filterwarnings('ignore')\n"
   ]
  },
  {
   "cell_type": "code",
   "execution_count": 14,
   "metadata": {},
   "outputs": [
    {
     "name": "stdout",
     "output_type": "stream",
     "text": [
      "b0 is: [-1.70338898]\n",
      "b1 is: [[0.4572272]]\n"
     ]
    },
    {
     "data": {
      "image/png": "[encoded data removed]",
      "text/plain": [
       "<Figure size 432x288 with 1 Axes>"
      ]
     },
     "metadata": {
      "needs_background": "light"
     },
     "output_type": "display_data"
    },
    {
     "name": "stdout",
     "output_type": "stream",
     "text": [
      "Prediction:  [1]\n"
     ]
    }
   ],
   "source": [
    "# p i = 1 / 1 + exp[ - ( b0 + b1 * x )]\n",
    "\n",
    "#Output = 1 if ball belongs to the red class\n",
    "#Output = 0 if ball belongs to the blue class\n",
    "\n",
    "#create array for a blue balls\n",
    "\n",
    "x1 = np.array([0,0.6,1.1,1.5,1.8,2.5,3,3.1,3.9,4,4.9,5,5.1])\n",
    "y1 = np.array([0,0,0,0,0,0,0,0,0,0,0,0,0])\n",
    "\n",
    "\n",
    "#create an array for a green balls\n",
    "x2 = np.array([3,3.8,4.4,5.2,5.5,6.5,6,6.1,6.9,7,7.9,8,8.1])\n",
    "y2 = np.array([1,1,1,1,1,1,1,1,1,1,1,1,1])\n",
    "\n",
    "\n",
    "#combine them\n",
    "X = np.array([[0],[0.6],[1.1],[1.5],[1.8],[2.5],[3],[3.1],[3.9],[4],[4.9],[5],[5.1],[3],[3.8],[4.4],[5.2],[5.5],[6.5],[6],[6.1],[6.9],[7],[7.9],[8],[8.1]])\n",
    "y = np.array([0,0,0,0,0,0,0,0,0,0,0,0,0,1,1,1,1,1,1,1,1,1,1,1,1,1])\n",
    "\n",
    "\n",
    "\n",
    "#x = np.array(X).reshape(-1,1)\n",
    "#y = np.array(y).reshape(-1,1)\n",
    "\n",
    "plt.plot(x1,y1,'ro',color='blue') #blue color assigned to x1 and y1\n",
    "plt.plot(x2,y2,'ro',color='red')  #red color assigned to x2 and y2\n",
    "\n",
    "model = LogisticRegression() #regression performed\n",
    "model.fit(X,y) #fit the value\n",
    "\n",
    "print(\"b0 is:\", model.intercept_)\n",
    "print(\"b1 is:\", model.coef_)\n",
    "\n",
    "def logistic(classifier, x):\n",
    "    return 1/(1+np.exp(-(model.intercept_ + model.coef_ * x)))\n",
    "\n",
    "#sigmoid function implementation\n",
    "for i in range(1,120):\n",
    "    plt.plot(i/10.0-2,logistic(model,i/10.0),'ro',color='green')\n",
    "\n",
    "    \n",
    "plt.axis([-2,10,-0.5,2])\n",
    "plt.show()\n",
    "\n",
    "pred = model.predict([[4.9]])\n",
    "print(\"Prediction: \", pred)\n",
    "\n",
    "#to get output in probability use\n",
    "#pred = model.predict_proba([[4.9]])\n",
    "#print(\"Prediction: \", pred)"
   ]
  },
  {
   "cell_type": "code",
   "execution_count": null,
   "metadata": {},
   "outputs": [],
   "source": []
  },
  {
   "cell_type": "code",
   "execution_count": null,
   "metadata": {},
   "outputs": [],
   "source": []
  },
  {
   "cell_type": "code",
   "execution_count": null,
   "metadata": {},
   "outputs": [],
   "source": []
  }
 ],
 "metadata": {
  "kernelspec": {
   "display_name": "Python 3",
   "language": "python",
   "name": "python3"
  },
  "language_info": {
   "codemirror_mode": {
    "name": "ipython",
    "version": 3
   },
   "file_extension": ".py",
   "mimetype": "text/x-python",
   "name": "python",
   "nbconvert_exporter": "python",
   "pygments_lexer": "ipython3",
   "version": "3.7.1"
  }
 },
 "nbformat": 4,
 "nbformat_minor": 2
}
