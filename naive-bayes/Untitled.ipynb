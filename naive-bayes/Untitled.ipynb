{
 "cells": [
  {
   "cell_type": "code",
   "execution_count": 26,
   "metadata": {},
   "outputs": [
    {
     "name": "stdout",
     "output_type": "stream",
     "text": [
      "0    150\n",
      "1    187\n",
      "2    156\n",
      "3    163\n",
      "4    170\n",
      "5    179\n",
      "6    180\n",
      "7    172\n",
      "Name: height, dtype: int64\n"
     ]
    }
   ],
   "source": [
    "#import libraries\n",
    "\n",
    "\n",
    "import pandas as pd\n",
    "from sklearn.naive_bayes import GaussianNB\n",
    "from sklearn.model_selection import train_test_split\n",
    "from sklearn.metrics import confusion_matrix\n",
    "from sklearn.metrics import accuracy_score\n",
    "\n",
    "#to remove the warnings\n",
    "import warnings\n",
    "warnings.filterwarnings('ignore')\n",
    "\n",
    "\n",
    "\n",
    "#read the csv file \n",
    "data = pd.read_csv(\"/home/flippercode/Documents/machine-learning/Datasets/fitness.csv\")\n",
    "\n",
    "data.head()\n",
    "\n",
    "\n",
    "#as per our dataset we can identify the particular person is fit or not\n",
    "\n",
    "\n",
    "height = data.height\n",
    "print(height)\n"
   ]
  },
  {
   "cell_type": "code",
   "execution_count": 27,
   "metadata": {},
   "outputs": [
    {
     "data": {
      "text/plain": [
       "0    50\n",
       "1    75\n",
       "2    80\n",
       "3    60\n",
       "4    49\n",
       "5    70\n",
       "6    55\n",
       "7    80\n",
       "Name: weight, dtype: int64"
      ]
     },
     "execution_count": 27,
     "metadata": {},
     "output_type": "execute_result"
    }
   ],
   "source": [
    "\n",
    "\n",
    "weight = data.weight\n",
    "weight\n",
    "\n",
    "\n",
    "\n"
   ]
  },
  {
   "cell_type": "code",
   "execution_count": 29,
   "metadata": {},
   "outputs": [],
   "source": [
    "#create a feature data and Target data\n",
    "data.features = data[['height','weight']]\n",
    "data.target = data.fitness\n",
    "features = list(zip(height,weight))\n",
    "features\n",
    "\n",
    "\n",
    "#testing of data\n",
    "feature_train, feature_test, target_train, target_test = train_test_split(data.features,data.target, test_size=0.3)\n",
    "\n",
    "#Create a Naive Baiyes Classifications model\n",
    "\n",
    "model = GaussianNB() \n",
    "\n",
    "#fit the model\n",
    "fittedModel = model.fit(feature_train, target_train)\n",
    "predictions = fittedModel.predict(feature_test)\n",
    "\n"
   ]
  },
  {
   "cell_type": "code",
   "execution_count": 31,
   "metadata": {},
   "outputs": [
    {
     "name": "stdout",
     "output_type": "stream",
     "text": [
      "[[0 2]\n",
      " [0 1]]\n",
      "Model Accuracy is:  33.33333333333333 %\n"
     ]
    }
   ],
   "source": [
    "\n",
    "print(confusion_matrix(target_test, predictions))\n",
    "print('Model Accuracy is: ',accuracy_score(target_test,predictions) * 100,'%')\n"
   ]
  },
  {
   "cell_type": "code",
   "execution_count": 33,
   "metadata": {},
   "outputs": [
    {
     "name": "stdout",
     "output_type": "stream",
     "text": [
      "You are :  [1]\n"
     ]
    }
   ],
   "source": [
    "predicted = model.predict([[173,50]])\n",
    "\n",
    "# [height, width]\n",
    "print ('You are : ',predicted) # 0 Unfit, 1 Fit"
   ]
  },
  {
   "cell_type": "code",
   "execution_count": null,
   "metadata": {},
   "outputs": [],
   "source": []
  }
 ],
 "metadata": {
  "kernelspec": {
   "display_name": "Python 3",
   "language": "python",
   "name": "python3"
  },
  "language_info": {
   "codemirror_mode": {
    "name": "ipython",
    "version": 3
   },
   "file_extension": ".py",
   "mimetype": "text/x-python",
   "name": "python",
   "nbconvert_exporter": "python",
   "pygments_lexer": "ipython3",
   "version": "3.7.1"
  }
 },
 "nbformat": 4,
 "nbformat_minor": 2
}
